{
 "cells": [
  {
   "cell_type": "markdown",
   "metadata": {},
   "source": [
    "Task-1\n",
    "\n",
    "Design a text-based Hangman game. The program\n",
    "selects a random word, and the player guesses one\n",
    "letter at a time to uncover the word. You can set a\n",
    "limit on the number of incorrect guesses allowed."
   ]
  },
  {
   "cell_type": "code",
   "execution_count": 1,
   "metadata": {},
   "outputs": [
    {
     "name": "stdout",
     "output_type": "stream",
     "text": [
      "Welcome to Hangman!\n",
      "Guess the word: _ _ _ _ _ _\n",
      "Correct! p _ _ _ _ _\n",
      "Correct! p y _ _ _ _\n",
      "Correct! p y t _ _ _\n",
      "Correct! p y t h _ _\n",
      "Correct! p y t h o _\n",
      "Correct! p y t h o n\n",
      "Congratulations! You've guessed the word: python\n"
     ]
    }
   ],
   "source": [
    "import random\n",
    "\n",
    "# List of words for the game\n",
    "words = [\"python\", \"hangman\", \"programming\", \"computer\", \"science\", \"game\", \"algorithm\"]\n",
    "\n",
    "def hangman_game():\n",
    "    # Randomly select a word from the list\n",
    "    word = random.choice(words)\n",
    "    guessed_letters = set()  # Store letters guessed correctly\n",
    "    incorrect_guesses = 0\n",
    "    max_incorrect_guesses = 6  # Maximum allowed incorrect guesses\n",
    "\n",
    "    # Create a display of underscores for the word to guess\n",
    "    display_word = [\"_\" for _ in word]\n",
    "    print(\"Welcome to Hangman!\")\n",
    "    print(\"Guess the word: \" + \" \".join(display_word))\n",
    "\n",
    "    # Game loop\n",
    "    while incorrect_guesses < max_incorrect_guesses:\n",
    "        guess = input(\"Enter a letter: \").lower()\n",
    "\n",
    "        # Check if the letter has already been guessed\n",
    "        if guess in guessed_letters:\n",
    "            print(\"You already guessed that letter.\")\n",
    "            continue\n",
    "\n",
    "        # Check if the guess is correct\n",
    "        if guess in word:\n",
    "            guessed_letters.add(guess)\n",
    "            # Update the display with the correctly guessed letter\n",
    "            for i, letter in enumerate(word):\n",
    "                if letter == guess:\n",
    "                    display_word[i] = guess\n",
    "            print(\"Correct! \" + \" \".join(display_word))\n",
    "        else:\n",
    "            incorrect_guesses += 1\n",
    "            print(f\"Incorrect! You have {max_incorrect_guesses - incorrect_guesses} guesses left.\")\n",
    "\n",
    "        # Check if the player has guessed the whole word\n",
    "        if \"_\" not in display_word:\n",
    "            print(\"Congratulations! You've guessed the word:\", word)\n",
    "            break\n",
    "\n",
    "    # If max incorrect guesses reached\n",
    "    if incorrect_guesses == max_incorrect_guesses:\n",
    "        print(\"Sorry, you've run out of guesses. The word was:\", word)\n",
    "\n",
    "# Run the game\n",
    "hangman_game()"
   ]
  }
 ],
 "metadata": {
  "kernelspec": {
   "display_name": "Python 3",
   "language": "python",
   "name": "python3"
  },
  "language_info": {
   "codemirror_mode": {
    "name": "ipython",
    "version": 3
   },
   "file_extension": ".py",
   "mimetype": "text/x-python",
   "name": "python",
   "nbconvert_exporter": "python",
   "pygments_lexer": "ipython3",
   "version": "3.12.6"
  }
 },
 "nbformat": 4,
 "nbformat_minor": 2
}
